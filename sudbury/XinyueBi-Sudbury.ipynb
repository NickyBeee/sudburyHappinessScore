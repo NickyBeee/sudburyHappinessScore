{
 "cells": [
  {
   "cell_type": "code",
   "execution_count": 10,
   "id": "1eb2cc84",
   "metadata": {},
   "outputs": [],
   "source": [
    "import pandas as pd\n",
    "\n",
    "df_originA = pd.read_excel(r'D:\\biWork\\unCleanData.xlsx', sheet_name = 'happiness,GDP,le')\n",
    "df_originB = pd.read_excel(r'D:\\biWork\\unCleanData.xlsx', sheet_name = 'gini')\n",
    "df_originC = pd.read_excel(r'D:\\biWork\\unCleanData.xlsx', sheet_name = 'safe,pol,pur')\n",
    "df_sudbury = pd.read_excel(r'D:\\biWork\\unCleanData.xlsx', sheet_name = 'sudbury')\n",
    "\n",
    "df_merged = pd.merge(df_originA, df_originB, on='Country')\n",
    "\n",
    "df_table = pd.merge(df_merged, df_originC, on = 'Country')\n",
    "\n",
    "df_table.to_csv('merged_data.csv', index=False)"
   ]
  },
  {
   "cell_type": "code",
   "execution_count": null,
   "id": "e584874d",
   "metadata": {},
   "outputs": [],
   "source": []
  },
  {
   "cell_type": "code",
   "execution_count": null,
   "id": "5d27d477",
   "metadata": {},
   "outputs": [],
   "source": []
  }
 ],
 "metadata": {
  "kernelspec": {
   "display_name": "Python 3 (ipykernel)",
   "language": "python",
   "name": "python3"
  },
  "language_info": {
   "codemirror_mode": {
    "name": "ipython",
    "version": 3
   },
   "file_extension": ".py",
   "mimetype": "text/x-python",
   "name": "python",
   "nbconvert_exporter": "python",
   "pygments_lexer": "ipython3",
   "version": "3.9.13"
  }
 },
 "nbformat": 4,
 "nbformat_minor": 5
}
