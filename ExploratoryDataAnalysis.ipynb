{
 "cells": [
  {
   "cell_type": "code",
   "execution_count": 1,
   "id": "8d492ca1",
   "metadata": {},
   "outputs": [],
   "source": [
    "import pandas as pd\n",
    "import matplotlib.pyplot as plt\n",
    "import seaborn as sns"
   ]
  },
  {
   "cell_type": "code",
   "execution_count": 2,
   "id": "f279159e",
   "metadata": {},
   "outputs": [],
   "source": [
    "df = pd.read_csv('merged_data3.csv')"
   ]
  },
  {
   "cell_type": "code",
   "execution_count": 3,
   "id": "70a029fb",
   "metadata": {},
   "outputs": [
    {
     "data": {
      "text/html": [
       "<div>\n",
       "<style scoped>\n",
       "    .dataframe tbody tr th:only-of-type {\n",
       "        vertical-align: middle;\n",
       "    }\n",
       "\n",
       "    .dataframe tbody tr th {\n",
       "        vertical-align: top;\n",
       "    }\n",
       "\n",
       "    .dataframe thead th {\n",
       "        text-align: right;\n",
       "    }\n",
       "</style>\n",
       "<table border=\"1\" class=\"dataframe\">\n",
       "  <thead>\n",
       "    <tr style=\"text-align: right;\">\n",
       "      <th></th>\n",
       "      <th>Country</th>\n",
       "      <th>Happinessscore</th>\n",
       "      <th>GDPpercapita</th>\n",
       "      <th>lifeexpectancy</th>\n",
       "      <th>gini</th>\n",
       "      <th>PurchasingPowerIndex</th>\n",
       "      <th>SafetyIndex</th>\n",
       "      <th>PollutionIndex</th>\n",
       "      <th>Region</th>\n",
       "      <th>Regimetype</th>\n",
       "    </tr>\n",
       "  </thead>\n",
       "  <tbody>\n",
       "    <tr>\n",
       "      <th>0</th>\n",
       "      <td>Finland</td>\n",
       "      <td>7821</td>\n",
       "      <td>1892</td>\n",
       "      <td>0,775</td>\n",
       "      <td>27.7</td>\n",
       "      <td>98.8</td>\n",
       "      <td>73.2</td>\n",
       "      <td>12.0</td>\n",
       "      <td>Western Europe</td>\n",
       "      <td>Full democracy</td>\n",
       "    </tr>\n",
       "    <tr>\n",
       "      <th>1</th>\n",
       "      <td>Denmark</td>\n",
       "      <td>7636</td>\n",
       "      <td>1953</td>\n",
       "      <td>0,777</td>\n",
       "      <td>27.7</td>\n",
       "      <td>105.0</td>\n",
       "      <td>73.4</td>\n",
       "      <td>21.3</td>\n",
       "      <td>Western Europe</td>\n",
       "      <td>Full democracy</td>\n",
       "    </tr>\n",
       "    <tr>\n",
       "      <th>2</th>\n",
       "      <td>Iceland</td>\n",
       "      <td>7557</td>\n",
       "      <td>1936</td>\n",
       "      <td>0,803</td>\n",
       "      <td>26.1</td>\n",
       "      <td>90.1</td>\n",
       "      <td>75.1</td>\n",
       "      <td>15.2</td>\n",
       "      <td>Western Europe</td>\n",
       "      <td>Full democracy</td>\n",
       "    </tr>\n",
       "    <tr>\n",
       "      <th>3</th>\n",
       "      <td>Switzerland</td>\n",
       "      <td>7512</td>\n",
       "      <td>2026</td>\n",
       "      <td>0,822</td>\n",
       "      <td>33.1</td>\n",
       "      <td>118.7</td>\n",
       "      <td>76.4</td>\n",
       "      <td>19.6</td>\n",
       "      <td>Western Europe</td>\n",
       "      <td>Full democracy</td>\n",
       "    </tr>\n",
       "    <tr>\n",
       "      <th>4</th>\n",
       "      <td>Netherlands</td>\n",
       "      <td>7415</td>\n",
       "      <td>1945</td>\n",
       "      <td>0,787</td>\n",
       "      <td>29.2</td>\n",
       "      <td>107.8</td>\n",
       "      <td>72.7</td>\n",
       "      <td>23.7</td>\n",
       "      <td>Western Europe</td>\n",
       "      <td>Full democracy</td>\n",
       "    </tr>\n",
       "  </tbody>\n",
       "</table>\n",
       "</div>"
      ],
      "text/plain": [
       "       Country  Happinessscore  GDPpercapita lifeexpectancy  gini  \\\n",
       "0      Finland            7821          1892          0,775  27.7   \n",
       "1      Denmark            7636          1953          0,777  27.7   \n",
       "2      Iceland            7557          1936          0,803  26.1   \n",
       "3  Switzerland            7512          2026          0,822  33.1   \n",
       "4  Netherlands            7415          1945          0,787  29.2   \n",
       "\n",
       "   PurchasingPowerIndex  SafetyIndex  PollutionIndex          Region  \\\n",
       "0                  98.8         73.2            12.0  Western Europe   \n",
       "1                 105.0         73.4            21.3  Western Europe   \n",
       "2                  90.1         75.1            15.2  Western Europe   \n",
       "3                 118.7         76.4            19.6  Western Europe   \n",
       "4                 107.8         72.7            23.7  Western Europe   \n",
       "\n",
       "       Regimetype  \n",
       "0  Full democracy  \n",
       "1  Full democracy  \n",
       "2  Full democracy  \n",
       "3  Full democracy  \n",
       "4  Full democracy  "
      ]
     },
     "execution_count": 3,
     "metadata": {},
     "output_type": "execute_result"
    }
   ],
   "source": [
    "df.head()"
   ]
  },
  {
   "cell_type": "code",
   "execution_count": 4,
   "id": "e6204a76",
   "metadata": {},
   "outputs": [
    {
     "data": {
      "text/plain": [
       "Index(['Country', 'Happinessscore', 'GDPpercapita', 'lifeexpectancy', 'gini',\n",
       "       'PurchasingPowerIndex', 'SafetyIndex', 'PollutionIndex', 'Region',\n",
       "       'Regimetype'],\n",
       "      dtype='object')"
      ]
     },
     "execution_count": 4,
     "metadata": {},
     "output_type": "execute_result"
    }
   ],
   "source": [
    "df.columns"
   ]
  },
  {
   "cell_type": "code",
   "execution_count": 7,
   "id": "3bdea149",
   "metadata": {},
   "outputs": [
    {
     "data": {
      "text/plain": [
       "Flawed democracy    31\n",
       "Full democracy      22\n",
       "Authoritarian       13\n",
       "Hybrid regime       12\n",
       "Name: Regimetype, dtype: int64"
      ]
     },
     "execution_count": 7,
     "metadata": {},
     "output_type": "execute_result"
    }
   ],
   "source": [
    "df.Regimetype.value_counts()"
   ]
  },
  {
   "cell_type": "code",
   "execution_count": 8,
   "id": "1aa6b712",
   "metadata": {},
   "outputs": [
    {
     "data": {
      "text/plain": [
       "Western Europe                     21\n",
       "Asia and Australasia               17\n",
       "Central and Eastern Europe         17\n",
       "Latin America and the Caribbean    10\n",
       "Middle East and North Africa        8\n",
       "Sub-Saharan Africa                  3\n",
       "North America                       2\n",
       "Name: Region, dtype: int64"
      ]
     },
     "execution_count": 8,
     "metadata": {},
     "output_type": "execute_result"
    }
   ],
   "source": [
    "df.Region.value_counts()"
   ]
  },
  {
   "cell_type": "code",
   "execution_count": 9,
   "id": "52b367da",
   "metadata": {},
   "outputs": [
    {
     "data": {
      "text/html": [
       "<div>\n",
       "<style scoped>\n",
       "    .dataframe tbody tr th:only-of-type {\n",
       "        vertical-align: middle;\n",
       "    }\n",
       "\n",
       "    .dataframe tbody tr th {\n",
       "        vertical-align: top;\n",
       "    }\n",
       "\n",
       "    .dataframe thead th {\n",
       "        text-align: right;\n",
       "    }\n",
       "</style>\n",
       "<table border=\"1\" class=\"dataframe\">\n",
       "  <thead>\n",
       "    <tr style=\"text-align: right;\">\n",
       "      <th></th>\n",
       "      <th>Happinessscore</th>\n",
       "      <th>GDPpercapita</th>\n",
       "      <th>gini</th>\n",
       "      <th>PurchasingPowerIndex</th>\n",
       "      <th>SafetyIndex</th>\n",
       "      <th>PollutionIndex</th>\n",
       "    </tr>\n",
       "  </thead>\n",
       "  <tbody>\n",
       "    <tr>\n",
       "      <th>count</th>\n",
       "      <td>78.000000</td>\n",
       "      <td>78.000000</td>\n",
       "      <td>78.000000</td>\n",
       "      <td>78.000000</td>\n",
       "      <td>78.000000</td>\n",
       "      <td>78.000000</td>\n",
       "    </tr>\n",
       "    <tr>\n",
       "      <th>mean</th>\n",
       "      <td>6035.833333</td>\n",
       "      <td>1687.435897</td>\n",
       "      <td>35.684615</td>\n",
       "      <td>60.493590</td>\n",
       "      <td>58.506410</td>\n",
       "      <td>52.528205</td>\n",
       "    </tr>\n",
       "    <tr>\n",
       "      <th>std</th>\n",
       "      <td>987.706203</td>\n",
       "      <td>314.539349</td>\n",
       "      <td>7.427818</td>\n",
       "      <td>31.269305</td>\n",
       "      <td>13.940973</td>\n",
       "      <td>21.204667</td>\n",
       "    </tr>\n",
       "    <tr>\n",
       "      <th>min</th>\n",
       "      <td>2955.000000</td>\n",
       "      <td>1032.000000</td>\n",
       "      <td>23.200000</td>\n",
       "      <td>8.400000</td>\n",
       "      <td>17.400000</td>\n",
       "      <td>12.000000</td>\n",
       "    </tr>\n",
       "    <tr>\n",
       "      <th>25%</th>\n",
       "      <td>5433.500000</td>\n",
       "      <td>1459.000000</td>\n",
       "      <td>30.850000</td>\n",
       "      <td>34.300000</td>\n",
       "      <td>51.125000</td>\n",
       "      <td>33.525000</td>\n",
       "    </tr>\n",
       "    <tr>\n",
       "      <th>50%</th>\n",
       "      <td>6150.000000</td>\n",
       "      <td>1725.500000</td>\n",
       "      <td>34.400000</td>\n",
       "      <td>53.950000</td>\n",
       "      <td>58.150000</td>\n",
       "      <td>56.850000</td>\n",
       "    </tr>\n",
       "    <tr>\n",
       "      <th>75%</th>\n",
       "      <td>6616.500000</td>\n",
       "      <td>1882.000000</td>\n",
       "      <td>40.025000</td>\n",
       "      <td>89.125000</td>\n",
       "      <td>68.600000</td>\n",
       "      <td>68.850000</td>\n",
       "    </tr>\n",
       "    <tr>\n",
       "      <th>max</th>\n",
       "      <td>7821.000000</td>\n",
       "      <td>3051.000000</td>\n",
       "      <td>63.000000</td>\n",
       "      <td>127.100000</td>\n",
       "      <td>84.900000</td>\n",
       "      <td>89.400000</td>\n",
       "    </tr>\n",
       "  </tbody>\n",
       "</table>\n",
       "</div>"
      ],
      "text/plain": [
       "       Happinessscore  GDPpercapita       gini  PurchasingPowerIndex  \\\n",
       "count       78.000000     78.000000  78.000000             78.000000   \n",
       "mean      6035.833333   1687.435897  35.684615             60.493590   \n",
       "std        987.706203    314.539349   7.427818             31.269305   \n",
       "min       2955.000000   1032.000000  23.200000              8.400000   \n",
       "25%       5433.500000   1459.000000  30.850000             34.300000   \n",
       "50%       6150.000000   1725.500000  34.400000             53.950000   \n",
       "75%       6616.500000   1882.000000  40.025000             89.125000   \n",
       "max       7821.000000   3051.000000  63.000000            127.100000   \n",
       "\n",
       "       SafetyIndex  PollutionIndex  \n",
       "count    78.000000       78.000000  \n",
       "mean     58.506410       52.528205  \n",
       "std      13.940973       21.204667  \n",
       "min      17.400000       12.000000  \n",
       "25%      51.125000       33.525000  \n",
       "50%      58.150000       56.850000  \n",
       "75%      68.600000       68.850000  \n",
       "max      84.900000       89.400000  "
      ]
     },
     "execution_count": 9,
     "metadata": {},
     "output_type": "execute_result"
    }
   ],
   "source": [
    "df.describe()"
   ]
  },
  {
   "cell_type": "code",
   "execution_count": 10,
   "id": "23f417e2",
   "metadata": {},
   "outputs": [
    {
     "data": {
      "text/plain": [
       "Index(['Country', 'Happinessscore', 'GDPpercapita', 'lifeexpectancy', 'gini',\n",
       "       'PurchasingPowerIndex', 'SafetyIndex', 'PollutionIndex', 'Region',\n",
       "       'Regimetype'],\n",
       "      dtype='object')"
      ]
     },
     "execution_count": 10,
     "metadata": {},
     "output_type": "execute_result"
    }
   ],
   "source": [
    "df.columns"
   ]
  },
  {
   "cell_type": "code",
   "execution_count": 12,
   "id": "d694d39c",
   "metadata": {},
   "outputs": [
    {
     "data": {
      "text/plain": [
       "<AxesSubplot:>"
      ]
     },
     "execution_count": 12,
     "metadata": {},
     "output_type": "execute_result"
    },
    {
     "data": {
      "image/png": "[encoded data removed]",
      "text/plain": [
       "<Figure size 640x480 with 1 Axes>"
      ]
     },
     "metadata": {},
     "output_type": "display_data"
    }
   ],
   "source": [
    "df.Happinessscore.hist()"
   ]
  },
  {
   "cell_type": "code",
   "execution_count": 13,
   "id": "78c3e175",
   "metadata": {},
   "outputs": [
    {
     "data": {
      "text/plain": [
       "<AxesSubplot:>"
      ]
     },
     "execution_count": 13,
     "metadata": {},
     "output_type": "execute_result"
    },
    {
     "data": {
      "image/png": "[encoded data removed]",
      "text/plain": [
       "<Figure size 640x480 with 1 Axes>"
      ]
     },
     "metadata": {},
     "output_type": "display_data"
    }
   ],
   "source": [
    "df.GDPpercapita.hist()"
   ]
  },
  {
   "cell_type": "code",
   "execution_count": 14,
   "id": "bb37e5fd",
   "metadata": {},
   "outputs": [
    {
     "data": {
      "text/plain": [
       "<AxesSubplot:>"
      ]
     },
     "execution_count": 14,
     "metadata": {},
     "output_type": "execute_result"
    },
    {
     "data": {
      "image/png": "[encoded data removed]",
      "text/plain": [
       "<Figure size 640x480 with 1 Axes>"
      ]
     },
     "metadata": {},
     "output_type": "display_data"
    }
   ],
   "source": [
    "df.PurchasingPowerIndex.hist()"
   ]
  },
  {
   "cell_type": "code",
   "execution_count": 17,
   "id": "57822103",
   "metadata": {},
   "outputs": [
    {
     "data": {
      "text/plain": [
       "<AxesSubplot:>"
      ]
     },
     "execution_count": 17,
     "metadata": {},
     "output_type": "execute_result"
    },
    {
     "data": {
      "image/png": "[encoded data removed]",
      "text/plain": [
       "<Figure size 640x480 with 1 Axes>"
      ]
     },
     "metadata": {},
     "output_type": "display_data"
    }
   ],
   "source": [
    "df.boxplot(column = ['Happinessscore' , 'GDPpercapita','gini','SafetyIndex'])"
   ]
  },
  {
   "cell_type": "code",
   "execution_count": 18,
   "id": "4e8e58f2",
   "metadata": {},
   "outputs": [
    {
     "data": {
      "text/html": [
       "<div>\n",
       "<style scoped>\n",
       "    .dataframe tbody tr th:only-of-type {\n",
       "        vertical-align: middle;\n",
       "    }\n",
       "\n",
       "    .dataframe tbody tr th {\n",
       "        vertical-align: top;\n",
       "    }\n",
       "\n",
       "    .dataframe thead th {\n",
       "        text-align: right;\n",
       "    }\n",
       "</style>\n",
       "<table border=\"1\" class=\"dataframe\">\n",
       "  <thead>\n",
       "    <tr style=\"text-align: right;\">\n",
       "      <th></th>\n",
       "      <th>Happinessscore</th>\n",
       "      <th>GDPpercapita</th>\n",
       "      <th>gini</th>\n",
       "      <th>PurchasingPowerIndex</th>\n",
       "      <th>SafetyIndex</th>\n",
       "      <th>PollutionIndex</th>\n",
       "    </tr>\n",
       "  </thead>\n",
       "  <tbody>\n",
       "    <tr>\n",
       "      <th>Happinessscore</th>\n",
       "      <td>1.000000</td>\n",
       "      <td>0.627462</td>\n",
       "      <td>-0.248739</td>\n",
       "      <td>0.750012</td>\n",
       "      <td>0.345054</td>\n",
       "      <td>-0.778187</td>\n",
       "    </tr>\n",
       "    <tr>\n",
       "      <th>GDPpercapita</th>\n",
       "      <td>0.627462</td>\n",
       "      <td>1.000000</td>\n",
       "      <td>-0.182024</td>\n",
       "      <td>0.599504</td>\n",
       "      <td>0.261322</td>\n",
       "      <td>-0.564922</td>\n",
       "    </tr>\n",
       "    <tr>\n",
       "      <th>gini</th>\n",
       "      <td>-0.248739</td>\n",
       "      <td>-0.182024</td>\n",
       "      <td>1.000000</td>\n",
       "      <td>-0.222073</td>\n",
       "      <td>-0.430447</td>\n",
       "      <td>0.333732</td>\n",
       "    </tr>\n",
       "    <tr>\n",
       "      <th>PurchasingPowerIndex</th>\n",
       "      <td>0.750012</td>\n",
       "      <td>0.599504</td>\n",
       "      <td>-0.222073</td>\n",
       "      <td>1.000000</td>\n",
       "      <td>0.457172</td>\n",
       "      <td>-0.723289</td>\n",
       "    </tr>\n",
       "    <tr>\n",
       "      <th>SafetyIndex</th>\n",
       "      <td>0.345054</td>\n",
       "      <td>0.261322</td>\n",
       "      <td>-0.430447</td>\n",
       "      <td>0.457172</td>\n",
       "      <td>1.000000</td>\n",
       "      <td>-0.394340</td>\n",
       "    </tr>\n",
       "    <tr>\n",
       "      <th>PollutionIndex</th>\n",
       "      <td>-0.778187</td>\n",
       "      <td>-0.564922</td>\n",
       "      <td>0.333732</td>\n",
       "      <td>-0.723289</td>\n",
       "      <td>-0.394340</td>\n",
       "      <td>1.000000</td>\n",
       "    </tr>\n",
       "  </tbody>\n",
       "</table>\n",
       "</div>"
      ],
      "text/plain": [
       "                      Happinessscore  GDPpercapita      gini  \\\n",
       "Happinessscore              1.000000      0.627462 -0.248739   \n",
       "GDPpercapita                0.627462      1.000000 -0.182024   \n",
       "gini                       -0.248739     -0.182024  1.000000   \n",
       "PurchasingPowerIndex        0.750012      0.599504 -0.222073   \n",
       "SafetyIndex                 0.345054      0.261322 -0.430447   \n",
       "PollutionIndex             -0.778187     -0.564922  0.333732   \n",
       "\n",
       "                      PurchasingPowerIndex  SafetyIndex  PollutionIndex  \n",
       "Happinessscore                    0.750012     0.345054       -0.778187  \n",
       "GDPpercapita                      0.599504     0.261322       -0.564922  \n",
       "gini                             -0.222073    -0.430447        0.333732  \n",
       "PurchasingPowerIndex              1.000000     0.457172       -0.723289  \n",
       "SafetyIndex                       0.457172     1.000000       -0.394340  \n",
       "PollutionIndex                   -0.723289    -0.394340        1.000000  "
      ]
     },
     "execution_count": 18,
     "metadata": {},
     "output_type": "execute_result"
    }
   ],
   "source": [
    "df[[ 'Happinessscore', 'GDPpercapita', 'lifeexpectancy', 'gini','PurchasingPowerIndex', 'SafetyIndex', 'PollutionIndex']].corr()"
   ]
  },
  {
   "cell_type": "code",
   "execution_count": 21,
   "id": "dab09249",
   "metadata": {},
   "outputs": [
    {
     "data": {
      "text/plain": [
       "<AxesSubplot:>"
      ]
     },
     "execution_count": 21,
     "metadata": {},
     "output_type": "execute_result"
    },
    {
     "data": {
      "image/png": "[encoded data removed]",
      "text/plain": [
       "<Figure size 640x480 with 2 Axes>"
      ]
     },
     "metadata": {},
     "output_type": "display_data"
    }
   ],
   "source": [
    "sns.heatmap(df[[ 'Happinessscore', 'GDPpercapita', 'lifeexpectancy', 'gini','PurchasingPowerIndex', 'SafetyIndex', 'PollutionIndex']].corr(),\n",
    "           center=0,cmap = sns.diverging_palette(220,10,as_cmap=True),square=True,linewidth=.5,cbar_kws={'shrink':.5})"
   ]
  },
  {
   "cell_type": "code",
   "execution_count": 22,
   "id": "c3cc2af2",
   "metadata": {},
   "outputs": [
    {
     "data": {
      "text/html": [
       "<div>\n",
       "<style scoped>\n",
       "    .dataframe tbody tr th:only-of-type {\n",
       "        vertical-align: middle;\n",
       "    }\n",
       "\n",
       "    .dataframe tbody tr th {\n",
       "        vertical-align: top;\n",
       "    }\n",
       "\n",
       "    .dataframe thead th {\n",
       "        text-align: right;\n",
       "    }\n",
       "</style>\n",
       "<table border=\"1\" class=\"dataframe\">\n",
       "  <thead>\n",
       "    <tr style=\"text-align: right;\">\n",
       "      <th></th>\n",
       "      <th></th>\n",
       "      <th>Happinessscore</th>\n",
       "    </tr>\n",
       "    <tr>\n",
       "      <th>Region</th>\n",
       "      <th>Regimetype</th>\n",
       "      <th></th>\n",
       "    </tr>\n",
       "  </thead>\n",
       "  <tbody>\n",
       "    <tr>\n",
       "      <th rowspan=\"4\" valign=\"top\">Asia and Australasia</th>\n",
       "      <th>Authoritarian</th>\n",
       "      <td>5535.000000</td>\n",
       "    </tr>\n",
       "    <tr>\n",
       "      <th>Flawed democracy</th>\n",
       "      <td>5337.857143</td>\n",
       "    </tr>\n",
       "    <tr>\n",
       "      <th>Full democracy</th>\n",
       "      <td>6569.600000</td>\n",
       "    </tr>\n",
       "    <tr>\n",
       "      <th>Hybrid regime</th>\n",
       "      <td>5032.000000</td>\n",
       "    </tr>\n",
       "    <tr>\n",
       "      <th rowspan=\"3\" valign=\"top\">Central and Eastern Europe</th>\n",
       "      <th>Authoritarian</th>\n",
       "      <td>5671.750000</td>\n",
       "    </tr>\n",
       "    <tr>\n",
       "      <th>Flawed democracy</th>\n",
       "      <td>6213.454545</td>\n",
       "    </tr>\n",
       "    <tr>\n",
       "      <th>Hybrid regime</th>\n",
       "      <td>5028.500000</td>\n",
       "    </tr>\n",
       "    <tr>\n",
       "      <th rowspan=\"4\" valign=\"top\">Latin America and the Caribbean</th>\n",
       "      <th>Authoritarian</th>\n",
       "      <td>4925.000000</td>\n",
       "    </tr>\n",
       "    <tr>\n",
       "      <th>Flawed democracy</th>\n",
       "      <td>6087.500000</td>\n",
       "    </tr>\n",
       "    <tr>\n",
       "      <th>Full democracy</th>\n",
       "      <td>6323.000000</td>\n",
       "    </tr>\n",
       "    <tr>\n",
       "      <th>Hybrid regime</th>\n",
       "      <td>5740.000000</td>\n",
       "    </tr>\n",
       "    <tr>\n",
       "      <th rowspan=\"3\" valign=\"top\">Middle East and North Africa</th>\n",
       "      <th>Authoritarian</th>\n",
       "      <td>4897.000000</td>\n",
       "    </tr>\n",
       "    <tr>\n",
       "      <th>Flawed democracy</th>\n",
       "      <td>7364.000000</td>\n",
       "    </tr>\n",
       "    <tr>\n",
       "      <th>Hybrid regime</th>\n",
       "      <td>5060.000000</td>\n",
       "    </tr>\n",
       "    <tr>\n",
       "      <th rowspan=\"2\" valign=\"top\">North America</th>\n",
       "      <th>Flawed democracy</th>\n",
       "      <td>6977.000000</td>\n",
       "    </tr>\n",
       "    <tr>\n",
       "      <th>Full democracy</th>\n",
       "      <td>7025.000000</td>\n",
       "    </tr>\n",
       "    <tr>\n",
       "      <th rowspan=\"2\" valign=\"top\">Sub-Saharan Africa</th>\n",
       "      <th>Flawed democracy</th>\n",
       "      <td>5194.000000</td>\n",
       "    </tr>\n",
       "    <tr>\n",
       "      <th>Hybrid regime</th>\n",
       "      <td>4547.500000</td>\n",
       "    </tr>\n",
       "    <tr>\n",
       "      <th rowspan=\"3\" valign=\"top\">Western Europe</th>\n",
       "      <th>Flawed democracy</th>\n",
       "      <td>6317.333333</td>\n",
       "    </tr>\n",
       "    <tr>\n",
       "      <th>Full democracy</th>\n",
       "      <td>7245.571429</td>\n",
       "    </tr>\n",
       "    <tr>\n",
       "      <th>Hybrid regime</th>\n",
       "      <td>4744.000000</td>\n",
       "    </tr>\n",
       "  </tbody>\n",
       "</table>\n",
       "</div>"
      ],
      "text/plain": [
       "                                                  Happinessscore\n",
       "Region                          Regimetype                      \n",
       "Asia and Australasia            Authoritarian        5535.000000\n",
       "                                Flawed democracy     5337.857143\n",
       "                                Full democracy       6569.600000\n",
       "                                Hybrid regime        5032.000000\n",
       "Central and Eastern Europe      Authoritarian        5671.750000\n",
       "                                Flawed democracy     6213.454545\n",
       "                                Hybrid regime        5028.500000\n",
       "Latin America and the Caribbean Authoritarian        4925.000000\n",
       "                                Flawed democracy     6087.500000\n",
       "                                Full democracy       6323.000000\n",
       "                                Hybrid regime        5740.000000\n",
       "Middle East and North Africa    Authoritarian        4897.000000\n",
       "                                Flawed democracy     7364.000000\n",
       "                                Hybrid regime        5060.000000\n",
       "North America                   Flawed democracy     6977.000000\n",
       "                                Full democracy       7025.000000\n",
       "Sub-Saharan Africa              Flawed democracy     5194.000000\n",
       "                                Hybrid regime        4547.500000\n",
       "Western Europe                  Flawed democracy     6317.333333\n",
       "                                Full democracy       7245.571429\n",
       "                                Hybrid regime        4744.000000"
      ]
     },
     "execution_count": 22,
     "metadata": {},
     "output_type": "execute_result"
    }
   ],
   "source": [
    "pd.pivot_table(df, index = ['Region','Regimetype'],values = 'Happinessscore')"
   ]
  },
  {
   "cell_type": "code",
   "execution_count": null,
   "id": "6162f89d",
   "metadata": {},
   "outputs": [],
   "source": []
  }
 ],
 "metadata": {
  "kernelspec": {
   "display_name": "Python 3 (ipykernel)",
   "language": "python",
   "name": "python3"
  },
  "language_info": {
   "codemirror_mode": {
    "name": "ipython",
    "version": 3
   },
   "file_extension": ".py",
   "mimetype": "text/x-python",
   "name": "python",
   "nbconvert_exporter": "python",
   "pygments_lexer": "ipython3",
   "version": "3.9.13"
  }
 },
 "nbformat": 4,
 "nbformat_minor": 5
}
